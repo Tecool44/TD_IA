{
  "cells": [
    {
      "cell_type": "markdown",
      "metadata": {
        "id": "JIuzZH7gj7Yu"
      },
      "source": [
        "\n",
        "\n",
        "> Import libraries to use\n",
        "\n"
      ]
    },
    {
      "cell_type": "code",
      "execution_count": null,
      "metadata": {
        "id": "1n-L9pacjmBA"
      },
      "outputs": [],
      "source": [
        "import numpy as np"
      ]
    },
    {
      "cell_type": "markdown",
      "metadata": {
        "id": "i38qZPSHmDVs"
      },
      "source": [
        ">  # Introduction to numpy (Skip if you already are familiar)"
      ]
    },
    {
      "cell_type": "markdown",
      "metadata": {
        "id": "-wFkLk1kmeIn"
      },
      "source": [
        ">> Creating a 1D array"
      ]
    },
    {
      "cell_type": "code",
      "execution_count": 1,
      "metadata": {
        "colab": {
          "base_uri": "https://localhost:8080/",
          "height": 193
        },
        "id": "E-o1XD0Qmgxk",
        "outputId": "f8aa5738-797e-4047-cd5f-9594c09d6a21"
      },
      "outputs": [
        {
          "output_type": "error",
          "ename": "NameError",
          "evalue": "name 'np' is not defined",
          "traceback": [
            "\u001b[0;31m---------------------------------------------------------------------------\u001b[0m",
            "\u001b[0;31mNameError\u001b[0m                                 Traceback (most recent call last)",
            "\u001b[0;32m<ipython-input-1-06cdfff57e2b>\u001b[0m in \u001b[0;36m<cell line: 1>\u001b[0;34m()\u001b[0m\n\u001b[0;32m----> 1\u001b[0;31m \u001b[0ma\u001b[0m \u001b[0;34m=\u001b[0m \u001b[0mnp\u001b[0m\u001b[0;34m.\u001b[0m\u001b[0marray\u001b[0m\u001b[0;34m(\u001b[0m\u001b[0;34m[\u001b[0m\u001b[0;36m1\u001b[0m\u001b[0;34m,\u001b[0m\u001b[0;36m2\u001b[0m\u001b[0;34m,\u001b[0m\u001b[0;36m3\u001b[0m\u001b[0;34m,\u001b[0m\u001b[0;36m4\u001b[0m\u001b[0;34m]\u001b[0m\u001b[0;34m)\u001b[0m\u001b[0;34m\u001b[0m\u001b[0;34m\u001b[0m\u001b[0m\n\u001b[0m\u001b[1;32m      2\u001b[0m \u001b[0mprint\u001b[0m\u001b[0;34m(\u001b[0m\u001b[0ma\u001b[0m\u001b[0;34m)\u001b[0m\u001b[0;34m\u001b[0m\u001b[0;34m\u001b[0m\u001b[0m\n",
            "\u001b[0;31mNameError\u001b[0m: name 'np' is not defined"
          ]
        }
      ],
      "source": [
        "a = np.array([1,2,3,4])\n",
        "print(a)"
      ]
    },
    {
      "cell_type": "markdown",
      "metadata": {
        "id": "DWh4Q90Gmh32"
      },
      "source": [
        ">> Creating a 2D array\n"
      ]
    },
    {
      "cell_type": "code",
      "execution_count": null,
      "metadata": {
        "id": "mOS0jF1AmjTX"
      },
      "outputs": [],
      "source": [
        "a = np.array([[1,2],[3,4]])\n",
        "print(a)"
      ]
    },
    {
      "cell_type": "markdown",
      "metadata": {
        "id": "4Z_7BfvcmoPA"
      },
      "source": [
        ">> Creating an array full of zeros\n"
      ]
    },
    {
      "cell_type": "code",
      "execution_count": null,
      "metadata": {
        "id": "KdGvmJ7gmFrF"
      },
      "outputs": [],
      "source": [
        "a = np.zeros(shape=(10))\n",
        "print(a)\n",
        "a = np.zeros(shape=(5,2))\n",
        "print(a)"
      ]
    },
    {
      "cell_type": "markdown",
      "metadata": {
        "id": "kV2byWmWmr9g"
      },
      "source": [
        ">> Infinity in numpy"
      ]
    },
    {
      "cell_type": "code",
      "execution_count": null,
      "metadata": {
        "id": "9SMPoECVmygc"
      },
      "outputs": [],
      "source": [
        "print(np.inf)"
      ]
    },
    {
      "cell_type": "markdown",
      "metadata": {
        "id": "FCi8vs49mz44"
      },
      "source": [
        ">> Max and Argmax"
      ]
    },
    {
      "cell_type": "code",
      "execution_count": null,
      "metadata": {
        "id": "Ailb-V76nSqc"
      },
      "outputs": [],
      "source": [
        "a = np.array([2,1,4,3])\n",
        "print(np.max(a))\n",
        "print(np.argmax(a))"
      ]
    },
    {
      "cell_type": "markdown",
      "metadata": {
        "id": "6XpkQzTfnXMU"
      },
      "source": [
        ">> From list to Numpy"
      ]
    },
    {
      "cell_type": "code",
      "execution_count": null,
      "metadata": {
        "id": "3wdFdBaOncQI"
      },
      "outputs": [],
      "source": [
        "l = [1,2,3,4]\n",
        "print(l)\n",
        "print(np.asarray(l))"
      ]
    },
    {
      "cell_type": "markdown",
      "metadata": {
        "id": "PgNawY2LngKt"
      },
      "source": [
        ">> Random in numpy"
      ]
    },
    {
      "cell_type": "code",
      "execution_count": null,
      "metadata": {
        "id": "tyopXlWsnjK1"
      },
      "outputs": [],
      "source": [
        "# Array of Random integers ranging from 1 to 10 (with any size you want)\n",
        "a = np.random.randint(low=1, high=10, size=(5,2))\n",
        "print(a)\n",
        "\n",
        "# Array of random elements of a list with any size you want\n",
        "a = np.random.choice([0,1,2], size=(2,))"
      ]
    },
    {
      "cell_type": "markdown",
      "metadata": {
        "id": "abjqoNDSoAD6"
      },
      "source": [
        ">> Shapes in numpy"
      ]
    },
    {
      "cell_type": "code",
      "execution_count": null,
      "metadata": {
        "id": "vN2gUoZEoCbE"
      },
      "outputs": [],
      "source": [
        "a = np.random.randint(low=1, high=5, size=(4,2))\n",
        "print(a.shape)\n",
        "print(a)\n",
        "\n",
        "# Reshape a to a vector of shape = (8,1)\n",
        "a = a.reshape((8,1))\n",
        "print(a.shape)\n",
        "print(a)"
      ]
    },
    {
      "cell_type": "markdown",
      "metadata": {
        "id": "ekYrPhAGkAfM"
      },
      "source": [
        "# Pre-defined utilities"
      ]
    },
    {
      "cell_type": "code",
      "execution_count": null,
      "metadata": {
        "id": "3kXEezQ_jnoP"
      },
      "outputs": [],
      "source": [
        "\n",
        "int_to_char = {\n",
        "    0 : 'u',\n",
        "    1 : 'r',\n",
        "    2 : 'd',\n",
        "    3 : 'l'\n",
        "}\n",
        "\n",
        "policy_one_step_look_ahead = {\n",
        "    0 : [-1,0],\n",
        "    1 : [0,1],\n",
        "    2 : [1,0],\n",
        "    3 : [0,-1]\n",
        "}\n",
        "\n",
        "def policy_int_to_char(pi,n):\n",
        "\n",
        "    pi_char = ['']\n",
        "\n",
        "    for i in range(n):\n",
        "        for j in range(n):\n",
        "\n",
        "            if i == 0 and j == 0 or i == n-1 and j == n-1:\n",
        "\n",
        "                continue\n",
        "\n",
        "            pi_char.append(int_to_char[pi[i,j]])\n",
        "\n",
        "    pi_char.append('')\n",
        "\n",
        "    return np.asarray(pi_char).reshape(n,n)"
      ]
    },
    {
      "cell_type": "markdown",
      "metadata": {
        "id": "3zlRobQekELk"
      },
      "source": [
        "# 1- Policy evaluation"
      ]
    },
    {
      "cell_type": "code",
      "execution_count": null,
      "metadata": {
        "id": "N7_2lpTAkHAJ"
      },
      "outputs": [],
      "source": [
        "def policy_evaluation(n, v, pi, Gamma, threshhold):\n",
        "    while True:\n",
        "        delta = 0\n",
        "        for i in range(n):\n",
        "            for j in range(n):\n",
        "                if (i == 0 and j == 0) or (i == n - 1 and j == n - 1):\n",
        "                    continue\n",
        "\n",
        "                current_state = (i, j)\n",
        "                action = pi[i, j]\n",
        "\n",
        "                next_i = max(0, min(n - 1, i + policy_one_step_look_ahead[action][0]))\n",
        "                next_j = max(0, min(n - 1, j + policy_one_step_look_ahead[action][1]))\n",
        "\n",
        "                next_state = (next_i, next_j)\n",
        "\n",
        "                reward = -1\n",
        "\n",
        "                new_value = reward + Gamma * v[next_state[0], next_state[1]]\n",
        "                delta = max(delta, np.abs(new_value - v[i, j]))\n",
        "                v[i, j] = new_value\n",
        "\n",
        "        if delta < threshhold:\n",
        "            break\n",
        "\n",
        "    return v\n"
      ]
    },
    {
      "cell_type": "markdown",
      "metadata": {
        "id": "id0Re9bnkWRP"
      },
      "source": [
        "# 2- Policy improvement"
      ]
    },
    {
      "cell_type": "code",
      "execution_count": null,
      "metadata": {
        "id": "eC8zswV7kZPF"
      },
      "outputs": [],
      "source": [
        "def policy_improvement(n, pi, v, Gamma):\n",
        "    new_pi = np.zeros_like(pi)\n",
        "    pi_stable = True\n",
        "\n",
        "    for i in range(n):\n",
        "        for j in range(n):\n",
        "            if (i == 0 and j == 0) or (i == n - 1 and j == n - 1):\n",
        "                continue\n",
        "\n",
        "            current_state = (i, j)\n",
        "\n",
        "            q_values = []\n",
        "            for action in range(4):\n",
        "                next_i = max(0, min(n - 1, i + policy_one_step_look_ahead[action][0]))\n",
        "                next_j = max(0, min(n - 1, j + policy_one_step_look_ahead[action][1]))\n",
        "\n",
        "                next_state = (next_i, next_j)\n",
        "\n",
        "                reward = -1\n",
        "\n",
        "                q_value = reward + Gamma * v[next_state[0], next_state[1]]\n",
        "                q_values.append(q_value)\n",
        "\n",
        "            new_action = np.argmax(q_values)\n",
        "            new_pi[i, j] = new_action\n",
        "\n",
        "            if new_action != pi[i, j]:\n",
        "                pi_stable = False\n",
        "\n",
        "    return new_pi, pi_stable\n"
      ]
    },
    {
      "cell_type": "markdown",
      "metadata": {
        "id": "1rJLFmZYk0I1"
      },
      "source": [
        "# 3- Policy Initialization"
      ]
    },
    {
      "cell_type": "code",
      "execution_count": null,
      "metadata": {
        "id": "xpuOHJeIk2K_"
      },
      "outputs": [],
      "source": [
        "import numpy as np\n",
        "def policy_initialization(n):\n",
        "    return np.random.randint(0, 4, size=(n, n))"
      ]
    },
    {
      "cell_type": "markdown",
      "metadata": {
        "id": "rfeVN5fQlBt8"
      },
      "source": [
        "# 4- Policy Iteration algorithm"
      ]
    },
    {
      "cell_type": "code",
      "execution_count": null,
      "metadata": {
        "id": "g7hnjz0PlFD4"
      },
      "outputs": [],
      "source": [
        "def policy_iteration(n,Gamma,threshhold):\n",
        "\n",
        "    pi = policy_initialization(n=n)\n",
        "\n",
        "    v = np.zeros(shape=(n,n))\n",
        "\n",
        "    while True:\n",
        "\n",
        "        v = policy_evaluation(n=n,v=v,pi=pi,threshhold=threshhold,Gamma=Gamma)\n",
        "\n",
        "        pi , pi_stable = policy_improvement(n=n,pi=pi,v=v,Gamma=Gamma)\n",
        "\n",
        "        if pi_stable:\n",
        "\n",
        "            break\n",
        "\n",
        "    return pi , v"
      ]
    },
    {
      "cell_type": "markdown",
      "metadata": {
        "id": "8FvleqV5onq9"
      },
      "source": [
        "# Main Code to Test"
      ]
    },
    {
      "cell_type": "code",
      "execution_count": null,
      "metadata": {
        "colab": {
          "background_save": true,
          "base_uri": "https://localhost:8080/"
        },
        "id": "hntGpzW-jZk3",
        "outputId": "aaeeb856-4c82-4bf7-ddc2-29564f327479"
      },
      "outputs": [
        {
          "name": "stdout",
          "output_type": "stream",
          "text": [
            "\n",
            "Gamma =  0.8\n",
            "\n",
            "[['' 'l' 'l' 'd']\n",
            " ['u' 'u' 'u' 'd']\n",
            " ['u' 'u' 'r' 'd']\n",
            " ['u' 'r' 'r' '']]\n",
            "\n",
            "\n",
            "[[ 0.   -1.   -1.8  -2.44]\n",
            " [-1.   -1.8  -2.44 -1.8 ]\n",
            " [-1.8  -2.44 -1.8  -1.  ]\n",
            " [-2.44 -1.8  -1.    0.  ]]\n",
            "\n",
            "Gamma =  0.9\n",
            "\n",
            "[['' 'l' 'l' 'd']\n",
            " ['u' 'u' 'u' 'd']\n",
            " ['u' 'u' 'r' 'd']\n",
            " ['u' 'r' 'r' '']]\n",
            "\n",
            "\n",
            "[[ 0.   -1.   -1.9  -2.71]\n",
            " [-1.   -1.9  -2.71 -1.9 ]\n",
            " [-1.9  -2.71 -1.9  -1.  ]\n",
            " [-2.71 -1.9  -1.    0.  ]]\n"
          ]
        }
      ],
      "source": [
        "n = 4\n",
        "\n",
        "Gamma = [0.8,0.9,1]\n",
        "\n",
        "threshhold = 1e-4\n",
        "\n",
        "for _gamma in Gamma:\n",
        "\n",
        "    pi , v = policy_iteration(n=n,Gamma=_gamma,threshhold=threshhold)\n",
        "\n",
        "    pi_char = policy_int_to_char(n=n,pi=pi)\n",
        "\n",
        "    print()\n",
        "    print(\"Gamma = \",_gamma)\n",
        "\n",
        "    print()\n",
        "\n",
        "    print(pi_char)\n",
        "\n",
        "    print()\n",
        "    print()\n",
        "\n",
        "    print(v)\n"
      ]
    }
  ],
  "metadata": {
    "colab": {
      "collapsed_sections": [
        "i38qZPSHmDVs",
        "ekYrPhAGkAfM",
        "3zlRobQekELk",
        "id0Re9bnkWRP",
        "1rJLFmZYk0I1",
        "8FvleqV5onq9"
      ],
      "provenance": []
    },
    "kernelspec": {
      "display_name": "Python 3",
      "name": "python3"
    },
    "language_info": {
      "name": "python"
    }
  },
  "nbformat": 4,
  "nbformat_minor": 0
}